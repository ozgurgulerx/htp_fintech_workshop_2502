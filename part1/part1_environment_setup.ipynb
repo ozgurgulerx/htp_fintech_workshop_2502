{
 "cells": [
  {
   "cell_type": "markdown",
   "metadata": {},
   "source": [
    "### Pre-workshop Setup Instructions \n",
    "Please follow the instructions below to set up your environment for the workshop.\n",
    "\n",
    "1. Open a terminal (Command Prompt/PowerShell on Windows, Terminal on macOS/Linux).\n",
    "2. Run the commands in the below cell.\n",
    "3. Open Jupyter Notebook (jupyter notebook or jupyter lab).\n",
    "4. Select the Python (.venv) kernel inside Jupyter."
   ]
  },
  {
   "cell_type": "code",
   "execution_count": null,
   "metadata": {
    "vscode": {
     "languageId": "shellscript"
    }
   },
   "outputs": [],
   "source": [
    "# run the below \n",
    "\n",
    "\n",
    "python3 -m venv .venv\n",
    "source .venv/bin/activate  # Use \".venv\\Scripts\\activate\" on Windows\n",
    "pip install -r requirements.txt\n",
    "\n",
    "#or install manually...\n",
    "pip install -U \"autogen-agentchat\"\n",
    "pip install \"autogen-ext[azure]\"\n",
    "pip install \"autogen-ext[openai]\"\n",
    "pip install ipykernel\n",
    "python -m ipykernel install --user --name=.venv --display-name \"Python (.venv)\"\n",
    "\n"
   ]
  },
  {
   "cell_type": "code",
   "execution_count": 4,
   "metadata": {},
   "outputs": [
    {
     "name": "stdout",
     "output_type": "stream",
     "text": [
      "Python executable: /Users/ozgurguler/Developer/Projects/htp_fintech_workshop_2502/venv/bin/python\n"
     ]
    }
   ],
   "source": [
    "#Run the below cell to confirm correct python version running in venv\n",
    "import sys\n",
    "print(f\"Python executable: {sys.executable}\")\n"
   ]
  },
  {
   "cell_type": "code",
   "execution_count": 3,
   "metadata": {},
   "outputs": [
    {
     "name": "stdout",
     "output_type": "stream",
     "text": [
      "autogen-agentchat         0.4.7\n",
      "autogen-core              0.4.7\n",
      "autogen-ext               0.4.7\n"
     ]
    }
   ],
   "source": [
    "!pip list | grep autogen\n"
   ]
  }
 ],
 "metadata": {
  "kernelspec": {
   "display_name": "venv",
   "language": "python",
   "name": "python3"
  },
  "language_info": {
   "codemirror_mode": {
    "name": "ipython",
    "version": 3
   },
   "file_extension": ".py",
   "mimetype": "text/x-python",
   "name": "python",
   "nbconvert_exporter": "python",
   "pygments_lexer": "ipython3",
   "version": "3.12.9"
  }
 },
 "nbformat": 4,
 "nbformat_minor": 2
}
