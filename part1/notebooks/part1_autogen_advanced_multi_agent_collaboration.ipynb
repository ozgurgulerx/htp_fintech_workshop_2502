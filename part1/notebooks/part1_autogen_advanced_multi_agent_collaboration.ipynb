{
 "cells": [
  {
   "cell_type": "markdown",
   "metadata": {},
   "source": [
    "# AUTOGEN MULTI-AGENT ORCHESTRATION\n",
    "\n",
    "AutoGen's multi-agent orchestration enables seamless collaboration between AI agents, allowing them to autonomously delegate tasks, retrieve information, and execute complex workflows. By leveraging structured communication, tool integration, and intelligent decision-making, AutoGen facilitates scalable AI-driven applications across domains like research, automation, and customer support. With flexible orchestration models such as RoundRobin, SelectorGroupChat, and Swarm, developers can design adaptive multi-agent ecosystems that efficiently coordinate and optimize task execution."
   ]
  },
  {
   "cell_type": "markdown",
   "metadata": {},
   "source": [
    "Using multiple agents in AI Automation have the following benefits:\n",
    "- **Specialization:** Instead of one massive model trying to handle everything (translation, coding, web-surfing, etc.), you can compose smaller, specialized agents.\n",
    "- **Parallelism & Modularity:** Multiple agents can divide tasks or work in parallel without stepping on each other’s toes.\n",
    "- **Scalable Expertise:** You can plug in new agents (like a VideoSurfer, FileSurfer, or SQLQueryAgent) without rewriting existing logic.\n",
    "\n",
    "\n",
    "New requirements to manage the complexity of using multiple agents...\n",
    "- **Orchestration:** If multiple agents can respond at once, you need a coordinating mechanism (how do they know who speaks next? do they pass tasks around?). AutoGen provides RoundRobinGroupChat, SelectorGroupChat, Swarm, and MagenticOneGroupChat for this orchestration.\n",
    "- **Shared Context & State:** Agents must see the most recent conversation state and outputs of other agents. AutoGen’s team concept ensures agents share a single conversation thread or message buffer.\n",
    "- **Tool Integration:** Each agent might call external APIs. If they conflict, you need to define a tool schema or allow parallel/discrete usage. In AutoGen, you can pass different tools or function-call endpoints to each agent. That way, the finance agent might have a currency API tool, while a web-search agent has a search tool.\n",
    "- **Memory & Persistence:** Long-running multi-agent applications need a memory store to recall user preferences, partial results, or conversation states across steps. AutoGen’s Memory interface (e.g., ListMemory, vector-based memory) can store facts so that all agents can retrieve relevant knowledge.-"
   ]
  },
  {
   "cell_type": "markdown",
   "metadata": {
    "vscode": {
     "languageId": "plaintext"
    }
   },
   "source": [
    "Below is a minimal multi-agent orchestration example using Azure OpenAI. We create two agents—one with multiple tools, and a second “critic” agent—then place them in a RoundRobinGroupChat so they can take turns responding. This setup demonstrates how to integrate Azure OpenAI, load environment variables, define tool functions, and orchestrate more than one agent in a conversation."
   ]
  },
  {
   "cell_type": "code",
   "execution_count": 2,
   "metadata": {},
   "outputs": [
    {
     "name": "stdout",
     "output_type": "stream",
     "text": [
      "---------- user ----------\n",
      "Explain the basics of quantum entanglement in simple terms.\n",
      "---------- QuantumExplainer ----------\n",
      "Quantum entanglement is a fascinating phenomenon that occurs when two or more particles become correlated in such a way that the state of one particle instantly influences the state of the other, no matter how far apart they are. Here’s a simplified explanation:\n",
      "\n",
      "Imagine you have two entangled particles, like a pair of shoes: one left shoe and one right shoe. If you separate these shoes and send one to New York and the other to Tokyo, as soon as you check the shoe in New York and see that it's the left one, you instantly know that the shoe in Tokyo is the right one.\n",
      "\n",
      "In the quantum world, particles like electrons or photons can become entangled through certain interactions. Once entangled, the measurement of a specific property, such as spin or polarization, on one particle will determine the outcome of the same measurement on its entangled partner, regardless of distance.\n",
      "\n",
      "The key point is that this correlation happens instantaneously, faster than light could travel between the two particles. This apparent \"spooky action at a distance,\" as Albert Einstein called it, challenges our classical intuitions about how the world works.\n",
      "\n",
      "Entanglement is not just a quirky novelty—it’s a vital resource in quantum computing, cryptography, and teleportation, offering new ways to process and transmit information securely and efficiently.\n"
     ]
    },
    {
     "name": "stderr",
     "output_type": "stream",
     "text": [
      "Error processing publish message for Critic/43aa14a8-cdf1-45c3-9d13-17b8f9e33929\n",
      "Traceback (most recent call last):\n",
      "  File \"/Users/ozgurguler/Developer/Projects/htp_fintech_workshop_2502/venv/lib/python3.12/site-packages/autogen_core/_single_threaded_agent_runtime.py\", line 505, in _on_message\n",
      "    return await agent.on_message(\n",
      "           ^^^^^^^^^^^^^^^^^^^^^^^\n",
      "  File \"/Users/ozgurguler/Developer/Projects/htp_fintech_workshop_2502/venv/lib/python3.12/site-packages/autogen_core/_base_agent.py\", line 113, in on_message\n",
      "    return await self.on_message_impl(message, ctx)\n",
      "           ^^^^^^^^^^^^^^^^^^^^^^^^^^^^^^^^^^^^^^^^\n",
      "  File \"/Users/ozgurguler/Developer/Projects/htp_fintech_workshop_2502/venv/lib/python3.12/site-packages/autogen_agentchat/teams/_group_chat/_sequential_routed_agent.py\", line 48, in on_message_impl\n",
      "    return await super().on_message_impl(message, ctx)\n",
      "           ^^^^^^^^^^^^^^^^^^^^^^^^^^^^^^^^^^^^^^^^^^^\n",
      "  File \"/Users/ozgurguler/Developer/Projects/htp_fintech_workshop_2502/venv/lib/python3.12/site-packages/autogen_core/_routed_agent.py\", line 485, in on_message_impl\n",
      "    return await h(self, message, ctx)\n",
      "           ^^^^^^^^^^^^^^^^^^^^^^^^^^^\n",
      "  File \"/Users/ozgurguler/Developer/Projects/htp_fintech_workshop_2502/venv/lib/python3.12/site-packages/autogen_core/_routed_agent.py\", line 268, in wrapper\n",
      "    return_value = await func(self, message, ctx)  # type: ignore\n",
      "                   ^^^^^^^^^^^^^^^^^^^^^^^^^^^^^^\n",
      "  File \"/Users/ozgurguler/Developer/Projects/htp_fintech_workshop_2502/venv/lib/python3.12/site-packages/autogen_agentchat/teams/_group_chat/_chat_agent_container.py\", line 53, in handle_request\n",
      "    async for msg in self._agent.on_messages_stream(self._message_buffer, ctx.cancellation_token):\n",
      "  File \"/Users/ozgurguler/Developer/Projects/htp_fintech_workshop_2502/venv/lib/python3.12/site-packages/autogen_agentchat/agents/_assistant_agent.py\", line 416, in on_messages_stream\n",
      "    model_result = await self._model_client.create(\n",
      "                   ^^^^^^^^^^^^^^^^^^^^^^^^^^^^^^^^\n",
      "  File \"/Users/ozgurguler/Developer/Projects/htp_fintech_workshop_2502/venv/lib/python3.12/site-packages/autogen_ext/models/openai/_openai_client.py\", line 534, in create\n",
      "    result: Union[ParsedChatCompletion[BaseModel], ChatCompletion] = await future\n",
      "                                                                     ^^^^^^^^^^^^\n",
      "  File \"/Users/ozgurguler/Developer/Projects/htp_fintech_workshop_2502/venv/lib/python3.12/site-packages/openai/resources/chat/completions/completions.py\", line 1927, in create\n",
      "    return await self._post(\n",
      "           ^^^^^^^^^^^^^^^^^\n",
      "  File \"/Users/ozgurguler/Developer/Projects/htp_fintech_workshop_2502/venv/lib/python3.12/site-packages/openai/_base_client.py\", line 1856, in post\n",
      "    return await self.request(cast_to, opts, stream=stream, stream_cls=stream_cls)\n",
      "           ^^^^^^^^^^^^^^^^^^^^^^^^^^^^^^^^^^^^^^^^^^^^^^^^^^^^^^^^^^^^^^^^^^^^^^^\n",
      "  File \"/Users/ozgurguler/Developer/Projects/htp_fintech_workshop_2502/venv/lib/python3.12/site-packages/openai/_base_client.py\", line 1550, in request\n",
      "    return await self._request(\n",
      "           ^^^^^^^^^^^^^^^^^^^^\n",
      "  File \"/Users/ozgurguler/Developer/Projects/htp_fintech_workshop_2502/venv/lib/python3.12/site-packages/openai/_base_client.py\", line 1636, in _request\n",
      "    return await self._retry_request(\n",
      "           ^^^^^^^^^^^^^^^^^^^^^^^^^^\n",
      "  File \"/Users/ozgurguler/Developer/Projects/htp_fintech_workshop_2502/venv/lib/python3.12/site-packages/openai/_base_client.py\", line 1683, in _retry_request\n",
      "    return await self._request(\n",
      "           ^^^^^^^^^^^^^^^^^^^^\n",
      "  File \"/Users/ozgurguler/Developer/Projects/htp_fintech_workshop_2502/venv/lib/python3.12/site-packages/openai/_base_client.py\", line 1636, in _request\n",
      "    return await self._retry_request(\n",
      "           ^^^^^^^^^^^^^^^^^^^^^^^^^^\n",
      "  File \"/Users/ozgurguler/Developer/Projects/htp_fintech_workshop_2502/venv/lib/python3.12/site-packages/openai/_base_client.py\", line 1683, in _retry_request\n",
      "    return await self._request(\n",
      "           ^^^^^^^^^^^^^^^^^^^^\n",
      "  File \"/Users/ozgurguler/Developer/Projects/htp_fintech_workshop_2502/venv/lib/python3.12/site-packages/openai/_base_client.py\", line 1651, in _request\n",
      "    raise self._make_status_error_from_response(err.response) from None\n",
      "openai.RateLimitError: Error code: 429 - {'error': {'code': '429', 'message': 'Requests to the ChatCompletions_Create Operation under Azure OpenAI API version 2024-06-01 have exceeded call rate limit of your current OpenAI S0 pricing tier. Please retry after 9 seconds. Please go here: https://aka.ms/oai/quotaincrease if you would like to further increase the default rate limit.'}}\n"
     ]
    },
    {
     "data": {
      "text/plain": [
       "TaskResult(messages=[TextMessage(source='user', models_usage=None, content='Explain the basics of quantum entanglement in simple terms.', type='TextMessage'), TextMessage(source='QuantumExplainer', models_usage=RequestUsage(prompt_tokens=38, completion_tokens=260), content='Quantum entanglement is a fascinating phenomenon that occurs when two or more particles become correlated in such a way that the state of one particle instantly influences the state of the other, no matter how far apart they are. Here’s a simplified explanation:\\n\\nImagine you have two entangled particles, like a pair of shoes: one left shoe and one right shoe. If you separate these shoes and send one to New York and the other to Tokyo, as soon as you check the shoe in New York and see that it\\'s the left one, you instantly know that the shoe in Tokyo is the right one.\\n\\nIn the quantum world, particles like electrons or photons can become entangled through certain interactions. Once entangled, the measurement of a specific property, such as spin or polarization, on one particle will determine the outcome of the same measurement on its entangled partner, regardless of distance.\\n\\nThe key point is that this correlation happens instantaneously, faster than light could travel between the two particles. This apparent \"spooky action at a distance,\" as Albert Einstein called it, challenges our classical intuitions about how the world works.\\n\\nEntanglement is not just a quirky novelty—it’s a vital resource in quantum computing, cryptography, and teleportation, offering new ways to process and transmit information securely and efficiently.', type='TextMessage')], stop_reason=None)"
      ]
     },
     "execution_count": 2,
     "metadata": {},
     "output_type": "execute_result"
    }
   ],
   "source": [
    "import os\n",
    "import asyncio\n",
    "from dotenv import load_dotenv\n",
    "\n",
    "# Agents, team, console UI\n",
    "from autogen_agentchat.agents import AssistantAgent\n",
    "from autogen_agentchat.teams import RoundRobinGroupChat\n",
    "from autogen_agentchat.ui import Console\n",
    "\n",
    "# Azure OpenAI client\n",
    "from autogen_ext.models.openai import AzureOpenAIChatCompletionClient\n",
    "\n",
    "# 1) Load Azure environment variables\n",
    "load_dotenv()\n",
    "AZURE_OPENAI_ENDPOINT = os.getenv(\"AZURE_OPENAI_ENDPOINT\", \"\")\n",
    "AZURE_OPENAI_API_KEY = os.getenv(\"AZURE_OPENAI_API_KEY\", \"\")\n",
    "\n",
    "# 2) Create Azure OpenAI Client\n",
    "model_client = AzureOpenAIChatCompletionClient(\n",
    "    model=\"gpt-4o\",\n",
    "    api_version=\"2024-06-01\",\n",
    "    azure_endpoint=AZURE_OPENAI_ENDPOINT,\n",
    "    api_key=AZURE_OPENAI_API_KEY,\n",
    ")\n",
    "\n",
    "# 3) Define two agents\n",
    "quantum_explainer = AssistantAgent(\n",
    "    name=\"QuantumExplainer\",\n",
    "    model_client=model_client,\n",
    "    system_message=\"You are a knowledgeable assistant who provides clear explanations of quantum physics principles.\"\n",
    ")\n",
    "\n",
    "critic_agent = AssistantAgent(\n",
    "    name=\"Critic\",\n",
    "    model_client=model_client,\n",
    "    system_message=\"You specialize in providing constructive critiques and clarifications about scientific explanations.\"\n",
    ")\n",
    "\n",
    "# 4) RoundRobinGroupChat: agents take turns automatically\n",
    "team = RoundRobinGroupChat(\n",
    "    participants=[quantum_explainer, critic_agent]\n",
    ")\n",
    "\n",
    "# 5) Give them a shared task in quantum physics (Jupyter-friendly)\n",
    "await Console(team.run_stream(task=\"Explain the basics of quantum entanglement in simple terms.\"))\n"
   ]
  }
 ],
 "metadata": {
  "kernelspec": {
   "display_name": "venv",
   "language": "python",
   "name": "python3"
  },
  "language_info": {
   "codemirror_mode": {
    "name": "ipython",
    "version": 3
   },
   "file_extension": ".py",
   "mimetype": "text/x-python",
   "name": "python",
   "nbconvert_exporter": "python",
   "pygments_lexer": "ipython3",
   "version": "3.12.9"
  }
 },
 "nbformat": 4,
 "nbformat_minor": 2
}
