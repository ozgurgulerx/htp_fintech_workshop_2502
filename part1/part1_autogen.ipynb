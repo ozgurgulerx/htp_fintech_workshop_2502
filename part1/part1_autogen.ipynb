{
 "cells": [
  {
   "cell_type": "markdown",
   "metadata": {},
   "source": [
    "# 🤖 Introduction to AI Automation with AutoGen  \n",
    "\n",
    "We now know autogen is a multi-agent framework from **Microsoft Research**for building automated AI workflows.\n",
    "...but why do we need these \"frameworks\" in the first place?\n",
    "\n",
    "AI automation for non-deterministic and dynamic tasks requires creating a \"workflow\" that can be executed with code, external API calls and data access on the go. Two points are crucial here...\n",
    "\n",
    "Let's work backwards from the needs for complex AI Automation and see how AutoGen can help us...\n",
    "\n",
    "## AI Automation Requirements \n",
    "\n",
    "![AI Automation Tech Stack](../images/agent_tech_stack.png)\n",
    "\n",
    "1. **Task decomposition & planning** We need to diminish the task into smaller sub-tasks that can be executed in parallel (where we can to untangle dependencies and turn calls into \"asynchrounous calls\"). This is where we need \"reasoning llm's\" for their \"executive function\" capabilities much like in humans. \n",
    "    -**Reasoning LLM's for task decomposition & planning** with  best in class instruction following \n",
    "    -**Multi-agent communication support**  asynchrnous and event-driven multi-agent communication is key to this.\n",
    "\n",
    "2. **Tool use** via \"function calling\" we need to be able to call code and APIs on the fly consistently and correctly.\n",
    "    -**Structured Outputs** LLM structured outputs support is key for consistent & correct function calls \n",
    "    -**Consistent Calls** LLM function calling performance should be consistent and correct\n",
    "    -**Instruction Following** Instruction following determines prompt performance e.g. how well you can your intent into LLM actions with Prompt Engineering. It is the prompt engineering elasticit... \n",
    "    -**Capable & optimal Worker LLM's** We need optimal worker LLM's performance, latency & cost \n",
    "\n",
    "3. **Episodic Memory** For complex tasks we need to store state, fix problems on the go, backtrack where necessary and adopt a different plan if the execution is failing...\n",
    "    - **Memory Management**\n",
    "    - **Context Management**\n",
    "4. \n",
    "\n",
    "\n",
    "\n",
    "AutoGen is a **multi-agent framework** for building **automated AI workflows**. Developed , it enables LLM's to **collaborate, plan, and execute tasks** in an \"agentic\" manner.  AutoGen v0.4 introduces an asynchronous, event-driven architecture to enhance observability and control, enable more flexible multi-agent collaboration patterns, and support reusable components.\n",
    "\n",
    "## AutoGen Basics \n",
    "Let's try to answer why you would a multi-agent framework like AutoGen."
   ]
  },
  {
   "cell_type": "markdown",
   "metadata": {},
   "source": [
    "### Please Complete the **[environment setup](part1_environment_setup.ipynb)** first before progressing with the notebook!\n",
    "\n"
   ]
  },
  {
   "cell_type": "code",
   "execution_count": null,
   "metadata": {
    "vscode": {
     "languageId": "shellscript"
    }
   },
   "outputs": [],
   "source": []
  },
  {
   "cell_type": "markdown",
   "metadata": {},
   "source": [
    "\n",
    "\n",
    "\n",
    "\n"
   ]
  },
  {
   "cell_type": "markdown",
   "metadata": {},
   "source": [
    "## "
   ]
  },
  {
   "cell_type": "code",
   "execution_count": null,
   "metadata": {
    "vscode": {
     "languageId": "shellscript"
    }
   },
   "outputs": [],
   "source": []
  }
 ],
 "metadata": {
  "kernelspec": {
   "display_name": "venv",
   "language": "python",
   "name": "python3"
  },
  "language_info": {
   "name": "python",
   "version": "3.12.9"
  }
 },
 "nbformat": 4,
 "nbformat_minor": 2
}
