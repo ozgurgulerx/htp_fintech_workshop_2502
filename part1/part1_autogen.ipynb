{
 "cells": [
  {
   "cell_type": "markdown",
   "metadata": {},
   "source": [
    "# 🤖 Introduction to AutoGen  \n",
    "\n",
    "## What is AutoGen?  \n",
    "AutoGen is a **multi-agent framework** for building **automated AI workflows**. Developed by **Microsoft Research**, it enables LLM's to **collaborate, plan, and execute tasks** in an \"agentic\" manner.  AutoGen v0.4 introduces an asynchronous, event-driven architecture to enhance observability and control, enable more flexible multi-agent collaboration patterns, and support reusable components.\n",
    "\n",
    "Here are some simple examples to get you upto speed with AutoGen..."
   ]
  }
 ],
 "metadata": {
  "kernelspec": {
   "display_name": "venv",
   "language": "python",
   "name": "python3"
  },
  "language_info": {
   "name": "python",
   "version": "3.12.9"
  }
 },
 "nbformat": 4,
 "nbformat_minor": 2
}
