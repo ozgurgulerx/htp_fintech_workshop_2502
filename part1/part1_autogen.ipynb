{
 "cells": [
  {
   "cell_type": "markdown",
   "metadata": {},
   "source": [
    "# 🤖 Introduction to AutoGen  \n",
    "\n",
    "## What is AutoGen?  \n",
    "AutoGen is a **multi-agent framework** for building **automated AI workflows**. Developed by **Microsoft Research**, it enables LLM's to **collaborate, plan, and execute tasks** in an \"agentic\" manner.  AutoGen v0.4 introduces an asynchronous, event-driven architecture to enhance observability and control, enable more flexible multi-agent collaboration patterns, and support reusable components.\n",
    "\n",
    "## AutoGen Basics \n",
    "Let's try to answer why you would a multi-agent framework like AutoGen."
   ]
  },
  {
   "cell_type": "markdown",
   "metadata": {},
   "source": [
    "\n"
   ]
  },
  {
   "cell_type": "code",
   "execution_count": null,
   "metadata": {
    "vscode": {
     "languageId": "shellscript"
    }
   },
   "outputs": [],
   "source": []
  },
  {
   "cell_type": "markdown",
   "metadata": {},
   "source": [
    "\n",
    "\n",
    "\n",
    "\n"
   ]
  },
  {
   "cell_type": "markdown",
   "metadata": {},
   "source": [
    "## "
   ]
  },
  {
   "cell_type": "code",
   "execution_count": null,
   "metadata": {
    "vscode": {
     "languageId": "shellscript"
    }
   },
   "outputs": [],
   "source": []
  }
 ],
 "metadata": {
  "kernelspec": {
   "display_name": "venv",
   "language": "python",
   "name": "python3"
  },
  "language_info": {
   "name": "python",
   "version": "3.12.9"
  }
 },
 "nbformat": 4,
 "nbformat_minor": 2
}
